{
  "nbformat": 4,
  "nbformat_minor": 0,
  "metadata": {
    "colab": {
      "name": "Copy of em_assignment.ipynb",
      "version": "0.3.2",
      "provenance": [],
      "collapsed_sections": []
    },
    "kernelspec": {
      "display_name": "Python 3",
      "language": "python",
      "name": "python3"
    }
  },
  "cells": [
    {
      "cell_type": "markdown",
      "metadata": {
        "id": "jlo4V6MRBEDQ",
        "colab_type": "text"
      },
      "source": [
        "# First things first\n",
        "Click **File -> Save a copy in Drive** and click **Open in new tab** in the pop-up window to save your progress in Google Drive."
      ]
    },
    {
      "cell_type": "markdown",
      "metadata": {
        "id": "WMlNHfVxBEDT",
        "colab_type": "text"
      },
      "source": [
        "# Expectation-maximization algorithm"
      ]
    },
    {
      "cell_type": "markdown",
      "metadata": {
        "id": "icS4MsxIBEDU",
        "colab_type": "text"
      },
      "source": [
        "In this assignment, we will derive and implement formulas for Gaussian Mixture Model — one of the most commonly used methods for performing soft clustering of the data. "
      ]
    },
    {
      "cell_type": "markdown",
      "metadata": {
        "id": "jequoJfSBEDV",
        "colab_type": "text"
      },
      "source": [
        "### Setup\n",
        "Loading auxiliary files and importing the necessary libraries."
      ]
    },
    {
      "cell_type": "code",
      "metadata": {
        "id": "ZqZo-y9UBEDX",
        "colab_type": "code",
        "outputId": "25c91dc1-3533-4a95-866f-c480bbd9d154",
        "colab": {
          "base_uri": "https://localhost:8080/",
          "height": 272
        }
      },
      "source": [
        "try:\n",
        "    import google.colab\n",
        "    IN_COLAB = True\n",
        "except:\n",
        "    IN_COLAB = False\n",
        "if IN_COLAB:\n",
        "    print(\"Downloading Colab files\")\n",
        "    ! shred -u setup_google_colab.py\n",
        "    ! wget https://raw.githubusercontent.com/hse-aml/bayesian-methods-for-ml/master/setup_google_colab.py -O setup_google_colab.py\n",
        "    import setup_google_colab\n",
        "    setup_google_colab.load_data_week2()"
      ],
      "execution_count": 0,
      "outputs": [
        {
          "output_type": "stream",
          "text": [
            "Downloading Colab files\n",
            "shred: setup_google_colab.py: failed to open for writing: No such file or directory\n",
            "--2019-06-22 03:24:28--  https://raw.githubusercontent.com/hse-aml/bayesian-methods-for-ml/master/setup_google_colab.py\n",
            "Resolving raw.githubusercontent.com (raw.githubusercontent.com)... 151.101.0.133, 151.101.64.133, 151.101.128.133, ...\n",
            "Connecting to raw.githubusercontent.com (raw.githubusercontent.com)|151.101.0.133|:443... connected.\n",
            "HTTP request sent, awaiting response... 200 OK\n",
            "Length: 1254 (1.2K) [text/plain]\n",
            "Saving to: ‘setup_google_colab.py’\n",
            "\n",
            "setup_google_colab. 100%[===================>]   1.22K  --.-KB/s    in 0s      \n",
            "\n",
            "2019-06-22 03:24:28 (199 MB/s) - ‘setup_google_colab.py’ saved [1254/1254]\n",
            "\n",
            "https://raw.githubusercontent.com/hse-aml/bayesian-methods-for-ml/master/week2/w2_grader.py w2_grader.py\n",
            "https://raw.githubusercontent.com/hse-aml/bayesian-methods-for-ml/master/week2/samples.npz samples.npz\n"
          ],
          "name": "stdout"
        }
      ]
    },
    {
      "cell_type": "code",
      "metadata": {
        "id": "urylZcbeBEDc",
        "colab_type": "code",
        "colab": {}
      },
      "source": [
        "import numpy as np\n",
        "from numpy.linalg import slogdet, det, solve\n",
        "import matplotlib.pyplot as plt\n",
        "import time\n",
        "from sklearn.datasets import load_digits\n",
        "from w2_grader import EMGrader\n",
        "%matplotlib inline\n",
        "import scipy"
      ],
      "execution_count": 0,
      "outputs": []
    },
    {
      "cell_type": "markdown",
      "metadata": {
        "id": "tP8l9frZBEDf",
        "colab_type": "text"
      },
      "source": [
        "### Grading\n",
        "We will create a grader instance below and use it to collect your answers. Note that these outputs will be stored locally inside grader and will be uploaded to the platform only after running submitting function in the last part of this assignment. If you want to make a partial submission, you can run that cell anytime you want."
      ]
    },
    {
      "cell_type": "code",
      "metadata": {
        "id": "7Gvy3EOvBEDg",
        "colab_type": "code",
        "colab": {}
      },
      "source": [
        "grader = EMGrader()"
      ],
      "execution_count": 0,
      "outputs": []
    },
    {
      "cell_type": "markdown",
      "metadata": {
        "id": "dL3A2sntBEDj",
        "colab_type": "text"
      },
      "source": [
        "## Implementing EM for GMM"
      ]
    },
    {
      "cell_type": "markdown",
      "metadata": {
        "id": "0xPS_VdpBEDk",
        "colab_type": "text"
      },
      "source": [
        "For debugging, we will use samples from a Gaussian mixture model with unknown mean, variance, and priors. We also added initial values of parameters for grading purposes."
      ]
    },
    {
      "cell_type": "code",
      "metadata": {
        "id": "g9_aOn94BEDl",
        "colab_type": "code",
        "outputId": "16d14ca8-557d-4c75-bc61-12550390ef07",
        "colab": {
          "base_uri": "https://localhost:8080/",
          "height": 269
        }
      },
      "source": [
        "samples = np.load('samples.npz')\n",
        "X = samples['data']\n",
        "pi0 = samples['pi0']\n",
        "mu0 = samples['mu0']\n",
        "sigma0 = samples['sigma0']\n",
        "plt.scatter(X[:, 0], X[:, 1], c='grey', s=30)\n",
        "plt.axis('equal')\n",
        "plt.show()"
      ],
      "execution_count": 0,
      "outputs": [
        {
          "output_type": "display_data",
          "data": {
            "image/png": "[encoded data removed]",
            "text/plain": [
              "<Figure size 432x288 with 1 Axes>"
            ]
          },
          "metadata": {
            "tags": []
          }
        }
      ]
    },
    {
      "cell_type": "markdown",
      "metadata": {
        "id": "AmgeHTCfBEDp",
        "colab_type": "text"
      },
      "source": [
        "### Reminder"
      ]
    },
    {
      "cell_type": "markdown",
      "metadata": {
        "id": "RgAwWi1nBEDq",
        "colab_type": "text"
      },
      "source": [
        "Remember, that EM algorithm is a coordinate descent optimization of variational lower bound $\\mathcal{L}(\\theta, q) = \\int q(T) \\log\\frac{p(X, T|\\theta)}{q(T)}dT\\to \\max$.\n",
        "\n",
        "<b>E-step</b>:<br>\n",
        "$\\mathcal{L}(\\theta, q) \\to \\max\\limits_{q} \\Leftrightarrow \\mathcal{KL} [q(T) \\,\\|\\, p(T|X, \\theta)] \\to \\min \\limits_{q\\in Q} \\Rightarrow q(T) = p(T|X, \\theta)$<br>\n",
        "<b>M-step</b>:<br> \n",
        "$\\mathcal{L}(\\theta, q) \\to \\max\\limits_{\\theta} \\Leftrightarrow \\mathbb{E}_{q(T)}\\log p(X,T | \\theta) \\to \\max\\limits_{\\theta}$\n",
        "\n",
        "For GMM, $\\theta$ is a set of parameters that consists of mean vectors $\\mu_c$, covariance matrices $\\Sigma_c$ and priors $\\pi_c$ for each component.\n",
        "\n",
        "Latent variables $T$ are indices of components to which each data point is assigned, i.e. $t_i$  is the cluster index for object $x_i$.\n",
        "\n",
        "The joint distribution can be written as follows: $\\log p(T, X \\mid \\theta) =  \\sum\\limits_{i=1}^N \\log p(t_i, x_i \\mid \\theta) = \\sum\\limits_{i=1}^N \\sum\\limits_{c=1}^C q(t_i = c) \\log \\left (\\pi_c \\, f_{\\!\\mathcal{N}}(x_i \\mid \\mu_c, \\Sigma_c)\\right)$,\n",
        "where $f_{\\!\\mathcal{N}}(x \\mid \\mu_c, \\Sigma_c) = \\frac{1}{\\sqrt{(2\\pi)^n|\\boldsymbol\\Sigma_c|}}\n",
        "\\exp\\left(-\\frac{1}{2}({x}-{\\mu_c})^T{\\boldsymbol\\Sigma_c}^{-1}({x}-{\\mu_c})\n",
        "\\right)$ is the probability density function (pdf) of the normal distribution $\\mathcal{N}(x_i \\mid \\mu_c, \\Sigma_c)$."
      ]
    },
    {
      "cell_type": "markdown",
      "metadata": {
        "id": "ELmi1nAtBEDr",
        "colab_type": "text"
      },
      "source": [
        "### E-step\n",
        "In this step we need to estimate the posterior distribution over the latent variables with fixed values of parameters: $q_i(t_i) = p(t_i \\mid x_i, \\theta)$. We assume that $t_i$ equals to the cluster index of the true component of the $x_i$ object. To do so we need to compute $\\gamma_{ic} = p(t_i = c \\mid x_i, \\theta)$. Note that $\\sum\\limits_{c=1}^C\\gamma_{ic}=1$.\n"
      ]
    },
    {
      "cell_type": "markdown",
      "metadata": {
        "id": "53FR1RJ9BEDs",
        "colab_type": "text"
      },
      "source": [
        "<b>Important trick 1:</b> It is important to avoid numerical errors. At some point you will have to compute the formula of the following form: $\\frac{e^{y_i}}{\\sum_j e^{y_j}}$, which is called _softmax_. When you compute exponents of large numbers, some numbers may become infinity. You can avoid this by dividing numerator and denominator by $e^{\\max(y)}$: $\\frac{e^{y_i-\\max(y)}}{\\sum_j e^{y_j - \\max(y)}}$. After this transformation maximum value in the denominator will be equal to one. All other terms will contribute smaller values. So, to compute desired formula you first subtract maximum value from each component in vector $\\mathbf{y}$ and then compute everything else as before.\n",
        "\n",
        "<b>Important trick 2:</b> You will probably need to compute formula of the form $A^{-1}x$ at some point. You would normally inverse $A$ and then multiply it by $x$. A bit faster and more numerically accurate way to do this is to directly solve equation $Ay = x$ by using a special function. Its solution is $y=A^{-1}x$, but the equation $Ay = x$ can be solved by methods which do not explicitely invert the matrix. You can use ```np.linalg.solve``` for this.\n",
        "\n",
        "<b>Other usefull functions: </b> <a href=\"https://docs.scipy.org/doc/numpy/reference/generated/numpy.linalg.slogdet.html\">```slogdet```</a> and <a href=\"https://docs.scipy.org/doc/numpy/reference/generated/numpy.linalg.det.html#numpy.linalg.det\">```det```</a>"
      ]
    },
    {
      "cell_type": "markdown",
      "metadata": {
        "id": "KL87Q8-TBEDu",
        "colab_type": "text"
      },
      "source": [
        "<b>Task 1:</b> Implement E-step for GMM using template below."
      ]
    },
    {
      "cell_type": "code",
      "metadata": {
        "id": "wCUCaD28BEDw",
        "colab_type": "code",
        "colab": {}
      },
      "source": [
        "from scipy.stats import multivariate_normal as mvn\n",
        "def E_step(X, pi, mu, sigma):\n",
        "    \"\"\"\n",
        "    Performs E-step on GMM model\n",
        "    Each input is numpy array:\n",
        "    X: (N x d), data points\n",
        "    pi: (C), mixture component weights \n",
        "    mu: (C x d), mixture component means\n",
        "    sigma: (C x d x d), mixture component covariance matrices\n",
        "    \n",
        "    Returns:\n",
        "    gamma: (N x C), probabilities of clusters for objects\n",
        "    \"\"\"\n",
        "    N = X.shape[0] # number of objects\n",
        "    C = pi.shape[0] # number of clusters\n",
        "    d = mu.shape[1] # dimension of each object\n",
        "    gamma = np.zeros((N, C)) # distribution q(T)\n",
        "    \n",
        "    def calc_prob_of_cluster(c):\n",
        "      mu_c = mu[c,:]\n",
        "      pi_c = pi[c]\n",
        "      sigma_c = sigma[c,:,:]\n",
        "      \n",
        "      return pi_c * mvn.pdf(X, mu_c, sigma_c)\n",
        "    \n",
        "    def softmax(Y):\n",
        "      max_y = np.max(Y)\n",
        "      \n",
        "      softmax_num = np.exp(Y - max_y)\n",
        "      softmax_denom = np.sum(np.exp(Y - max_y), axis=1)\n",
        "      \n",
        "      for i in range(len(Y)):\n",
        "        Y[i,:] = softmax_num[i] / softmax_denom[i]\n",
        "       \n",
        "      return Y\n",
        "    \n",
        "    for i in range(C):\n",
        "      gamma[:,i] = calc_prob_of_cluster(i)\n",
        "     \n",
        "    gamma_norm = np.sum(gamma, axis=1)[:,np.newaxis]\n",
        "    gamma = gamma / gamma_norm\n",
        "    \n",
        "    return gamma"
      ],
      "execution_count": 0,
      "outputs": []
    },
    {
      "cell_type": "code",
      "metadata": {
        "id": "l7M7b7MhNtpu",
        "colab_type": "code",
        "colab": {}
      },
      "source": [
        "gamma = E_step(X, pi0, mu0, sigma0)"
      ],
      "execution_count": 0,
      "outputs": []
    },
    {
      "cell_type": "code",
      "metadata": {
        "id": "iAQOWO0bNugu",
        "colab_type": "code",
        "outputId": "5852a2d1-fcfc-4314-efb3-7c00b464579a",
        "colab": {
          "base_uri": "https://localhost:8080/",
          "height": 34
        }
      },
      "source": [
        ""
      ],
      "execution_count": 0,
      "outputs": [
        {
          "output_type": "execute_result",
          "data": {
            "text/plain": [
              "(280, 3)"
            ]
          },
          "metadata": {
            "tags": []
          },
          "execution_count": 13
        }
      ]
    },
    {
      "cell_type": "code",
      "metadata": {
        "id": "Iiolsu8rNxX-",
        "colab_type": "code",
        "colab": {}
      },
      "source": [
        ""
      ],
      "execution_count": 0,
      "outputs": []
    },
    {
      "cell_type": "code",
      "metadata": {
        "id": "uvJAiMdQXXHa",
        "colab_type": "code",
        "outputId": "c700f73b-c1a1-4107-bcd1-455290b0a5a3",
        "colab": {
          "base_uri": "https://localhost:8080/",
          "height": 34
        }
      },
      "source": [
        "gamma = E_step(X, pi0, mu0, sigma0)\n",
        "grader.submit_e_step(gamma)"
      ],
      "execution_count": 0,
      "outputs": [
        {
          "output_type": "stream",
          "text": [
            "Current answer for task Task 1 (E-step) is: 0.5337178741081263\n"
          ],
          "name": "stdout"
        }
      ]
    },
    {
      "cell_type": "markdown",
      "metadata": {
        "id": "fERrQWSCBED5",
        "colab_type": "text"
      },
      "source": [
        "### M-step\n",
        "\n",
        "In M-step we need to maximize $\\mathbb{E}_{q(T)}\\log p(X,T | \\theta)$ with respect to $\\theta$. In our model this means that we need to find optimal values of $\\pi$, $\\mu$, $\\Sigma$. To do so, you need to compute the derivatives and \n",
        "set them to zero. You should start by deriving formulas for $\\mu$ as it is the easiest part. Then move on to $\\Sigma$. Here it is crucial to optimize function w.r.t. to $\\Lambda = \\Sigma^{-1}$ and then inverse obtained result. Finaly, to compute $\\pi$, you will need <a href=\"https://www3.nd.edu/~jstiver/FIN360/Constrained%20Optimization.pdf\">Lagrange Multipliers technique</a> to satisfy constraint $\\sum\\limits_{i=1}^{n}\\pi_i = 1$.\n",
        "\n",
        "<br>\n",
        "<b>Important note:</b> You will need to compute derivatives of scalars with respect to matrices. To refresh this technique from previous courses, see <a href=\"https://en.wikipedia.org/wiki/Matrix_calculus\"> wiki article</a> about it . Main formulas of matrix derivatives can be found in <a href=\"http://www2.imm.dtu.dk/pubdb/views/edoc_download.php/3274/pdf/imm3274.pdf\">Chapter 2 of The Matrix Cookbook</a>. For example, there you may find that $\\frac{\\partial}{\\partial A}\\log |A| = A^{-T}$.\n"
      ]
    },
    {
      "cell_type": "markdown",
      "metadata": {
        "id": "A31OYSogBED6",
        "colab_type": "text"
      },
      "source": [
        "<b>Task 2:</b> Implement M-step for GMM using template below."
      ]
    },
    {
      "cell_type": "code",
      "metadata": {
        "id": "mhOr5I1bBED7",
        "colab_type": "code",
        "colab": {}
      },
      "source": [
        "def M_step(X, gamma):\n",
        "    \"\"\"\n",
        "    Performs M-step on GMM model\n",
        "    Each input is numpy array:\n",
        "    X: (N x d), data points\n",
        "    gamma: (N x C), distribution q(T)  \n",
        "    \n",
        "    Returns:\n",
        "    pi: (C)\n",
        "    mu: (C x d)\n",
        "    sigma: (C x d x d)\n",
        "    \"\"\"\n",
        "    N = X.shape[0] # number of objects\n",
        "    C = gamma.shape[1] # number of clusters\n",
        "    d = X.shape[1] # dimension of each object\n",
        "\n",
        "    ### YOUR CODE HERE\n",
        "    pi = np.mean(gamma, axis=0)\n",
        "    mu = np.dot(gamma.T, X) / np.sum(gamma, axis=0)[:,np.newaxis]\n",
        "    sigma = np.zeros((C,d,d))\n",
        "    for c in range(C):\n",
        "      x = X - mu[c,:]\n",
        "      \n",
        "      gamma_diag = np.matrix(np.diag(gamma[:,c]))\n",
        "      sigma_c = x.T * gamma_diag * x\n",
        "      \n",
        "      sigma[c,:,:] = sigma_c / np.sum(gamma, axis=0)[:,np.newaxis][c]\n",
        "\n",
        "    return pi, mu, sigma"
      ],
      "execution_count": 0,
      "outputs": []
    },
    {
      "cell_type": "code",
      "metadata": {
        "id": "17zfvJReRzOh",
        "colab_type": "code",
        "outputId": "07b80bff-8c9a-49b9-9a07-3d73033fdc95",
        "colab": {
          "base_uri": "https://localhost:8080/",
          "height": 221
        }
      },
      "source": [
        "pi, mu, sigma = M_step(X, gamma)"
      ],
      "execution_count": 0,
      "outputs": [
        {
          "output_type": "stream",
          "text": [
            "mu:  (3, 2)\n",
            "X:  (280, 2)\n",
            "gamma:  (280, 3)\n",
            "x.T:  (2, 280)\n",
            "gamma_diag:  (280, 280)\n",
            "x:  (280, 2)\n",
            "x.T:  (2, 280)\n",
            "gamma_diag:  (280, 280)\n",
            "x:  (280, 2)\n",
            "x.T:  (2, 280)\n",
            "gamma_diag:  (280, 280)\n",
            "x:  (280, 2)\n"
          ],
          "name": "stdout"
        }
      ]
    },
    {
      "cell_type": "code",
      "metadata": {
        "id": "EB6sOIRFVzu0",
        "colab_type": "code",
        "outputId": "c9326e7e-32c4-4fb8-9264-5543e4e9fb7f",
        "colab": {
          "base_uri": "https://localhost:8080/",
          "height": 34
        }
      },
      "source": [
        "pi"
      ],
      "execution_count": 0,
      "outputs": [
        {
          "output_type": "execute_result",
          "data": {
            "text/plain": [
              "array([0.44702322, 0.55076245, 0.00221433])"
            ]
          },
          "metadata": {
            "tags": []
          },
          "execution_count": 17
        }
      ]
    },
    {
      "cell_type": "code",
      "metadata": {
        "id": "6i5cv65SBED-",
        "colab_type": "code",
        "outputId": "200053bf-bc70-43a0-8844-c949b4f9ee1f",
        "colab": {
          "base_uri": "https://localhost:8080/",
          "height": 272
        }
      },
      "source": [
        "gamma = E_step(X, pi0, mu0, sigma0)\n",
        "pi, mu, sigma = M_step(X, gamma)\n",
        "grader.submit_m_step(pi, mu, sigma)"
      ],
      "execution_count": 0,
      "outputs": [
        {
          "output_type": "stream",
          "text": [
            "mu:  (3, 2)\n",
            "X:  (280, 2)\n",
            "gamma:  (280, 3)\n",
            "x.T:  (2, 280)\n",
            "gamma_diag:  (280, 280)\n",
            "x:  (280, 2)\n",
            "x.T:  (2, 280)\n",
            "gamma_diag:  (280, 280)\n",
            "x:  (280, 2)\n",
            "x.T:  (2, 280)\n",
            "gamma_diag:  (280, 280)\n",
            "x:  (280, 2)\n",
            "Current answer for task Task 2 (M-step: mu) is: 2.899391882050383\n",
            "Current answer for task Task 2 (M-step: sigma) is: 5.977105216897526\n",
            "Current answer for task Task 2 (M-step: pi) is: 0.5507624459218776\n"
          ],
          "name": "stdout"
        }
      ]
    },
    {
      "cell_type": "markdown",
      "metadata": {
        "id": "svyzjt7XBEEC",
        "colab_type": "text"
      },
      "source": [
        "### Loss function"
      ]
    },
    {
      "cell_type": "markdown",
      "metadata": {
        "id": "qexOXBLUBEED",
        "colab_type": "text"
      },
      "source": [
        "Finally, we need some function to track convergence. We will use variational lower bound $\\mathcal{L}$ for this purpose. We will stop our EM iterations when $\\mathcal{L}$ will saturate. Usually, you will need only about 10-20 iterations to converge. It is also useful to check that this function never decreases during training. If it does, you have a bug in your code.\n",
        "\n",
        "<b>Task 3:</b> Implement a function that will compute $\\mathcal{L}$ using template below.\n",
        "\n",
        "$$\\mathcal{L} = \\sum_{i=1}^{N} \\sum_{c=1}^{C} q(t_i =c) (\\log \\pi_c + \\log f_{\\!\\mathcal{N}}(x_i \\mid \\mu_c, \\Sigma_c)) - \\sum_{i=1}^{N} \\sum_{c=1}^{K} q(t_i =c) \\log q(t_i =c)$$"
      ]
    },
    {
      "cell_type": "code",
      "metadata": {
        "id": "B5tKCZe0BEEE",
        "colab_type": "code",
        "colab": {}
      },
      "source": [
        "def compute_vlb(X, pi, mu, sigma, gamma):\n",
        "    \"\"\"\n",
        "    Each input is numpy array:\n",
        "    X: (N x d), data points\n",
        "    gamma: (N x C), distribution q(T)  \n",
        "    pi: (C)\n",
        "    mu: (C x d)\n",
        "    sigma: (C x d x d)\n",
        "    \n",
        "    Returns value of variational lower bound\n",
        "    \"\"\"\n",
        "    N = X.shape[0] # number of objects\n",
        "    C = gamma.shape[1] # number of clusters\n",
        "    d = X.shape[1] # dimension of each object\n",
        "\n",
        "    ### YOUR CODE HERE\n",
        "    loss = 0\n",
        "    for c in range(C):\n",
        "      for i in range(N):\n",
        "        normal_dist = mvn(mu[c], sigma[c,:,:], allow_singular=True)\n",
        "        gamma_c = gamma[i,c]\n",
        "        curr_loss = gamma_c * (np.log(pi[c] + 1e-6) \\\n",
        "                               + np.log(normal_dist.pdf(X[i,:]) + 1e-6)) \\\n",
        "                               - gamma_c*np.log(gamma_c + 1e-6)\n",
        "        loss += np.sum(curr_loss)\n",
        "                        \n",
        "\n",
        "    return loss"
      ],
      "execution_count": 0,
      "outputs": []
    },
    {
      "cell_type": "code",
      "metadata": {
        "id": "o-Pr92uqVkUy",
        "colab_type": "code",
        "colab": {}
      },
      "source": [
        "pi, mu, sigma = pi0, mu0, sigma0\n",
        "gamma = E_step(X, pi, mu, sigma)\n",
        "pi, mu, sigma = M_step(X, gamma)\n",
        "loss = compute_vlb(X, pi, mu, sigma, gamma)"
      ],
      "execution_count": 0,
      "outputs": []
    },
    {
      "cell_type": "code",
      "metadata": {
        "id": "qg6TXjfnQldE",
        "colab_type": "code",
        "outputId": "f8a74dfe-c31c-4fa7-b77b-b6a0571fa5bd",
        "colab": {
          "base_uri": "https://localhost:8080/",
          "height": 51
        }
      },
      "source": [
        "{'loss': loss, 'pi': pi}"
      ],
      "execution_count": 0,
      "outputs": [
        {
          "output_type": "execute_result",
          "data": {
            "text/plain": [
              "{'loss': -1213.9390729688698,\n",
              " 'pi': array([0.44702322, 0.55076245, 0.00221433])}"
            ]
          },
          "metadata": {
            "tags": []
          },
          "execution_count": 63
        }
      ]
    },
    {
      "cell_type": "code",
      "metadata": {
        "id": "qOAHkjxMOgoc",
        "colab_type": "code",
        "outputId": "1b4335d9-b135-4993-e6bd-7e315413e7d2",
        "colab": {
          "base_uri": "https://localhost:8080/",
          "height": 34
        }
      },
      "source": [
        "loss"
      ],
      "execution_count": 0,
      "outputs": [
        {
          "output_type": "execute_result",
          "data": {
            "text/plain": [
              "-1213.9390729688698"
            ]
          },
          "metadata": {
            "tags": []
          },
          "execution_count": 49
        }
      ]
    },
    {
      "cell_type": "code",
      "metadata": {
        "id": "xNva3XRTBEEI",
        "colab_type": "code",
        "outputId": "78cd1d18-c7e1-4b1b-91f7-41f8df74b214",
        "colab": {
          "base_uri": "https://localhost:8080/",
          "height": 34
        }
      },
      "source": [
        "pi, mu, sigma = pi0, mu0, sigma0\n",
        "gamma = E_step(X, pi, mu, sigma)\n",
        "pi, mu, sigma = M_step(X, gamma)\n",
        "loss = compute_vlb(X, pi, mu, sigma, gamma)\n",
        "grader.submit_VLB(loss)"
      ],
      "execution_count": 0,
      "outputs": [
        {
          "output_type": "stream",
          "text": [
            "Current answer for task Task 3 (VLB) is: -1213.9390729688698\n"
          ],
          "name": "stdout"
        }
      ]
    },
    {
      "cell_type": "markdown",
      "metadata": {
        "id": "I5p8XC-eBEEM",
        "colab_type": "text"
      },
      "source": [
        "### Bringing it all together"
      ]
    },
    {
      "cell_type": "markdown",
      "metadata": {
        "id": "cQsdsNVCBEEU",
        "colab_type": "text"
      },
      "source": [
        "Now that we have E step, M step and VLB, we can implement the training loop. We will initialize values of $\\pi$, $\\mu$ and $\\Sigma$ to some random numbers, train until $\\mathcal{L}$ stops changing, and return the resulting points. We also know that the EM algorithm converges to local optima. To find a better local optima, we will restart the algorithm multiple times from different (random) starting positions. Each training trial should stop either when maximum number of iterations is reached or when relative improvement is smaller than given tolerance ($|\\frac{\\mathcal{L}_i-\\mathcal{L}_{i-1}}{\\mathcal{L}_{i-1}}| \\le \\text{rtol}$).\n",
        "\n",
        "Remember, that initial (random) values of $\\pi$ that you generate must be non-negative and sum up to 1. Also, $\\Sigma$ matrices must be symmetric and positive semi-definite. If you don't know how to generate those matrices, you can use $\\Sigma=I$ as initialization.\n",
        "\n",
        "You will also sometimes get numerical errors because of component collapsing. The easiest way to deal with this problems is to restart the procedure.\n",
        "\n",
        "<b>Task 4:</b> Implement training procedure"
      ]
    },
    {
      "cell_type": "code",
      "metadata": {
        "id": "Q1AAcyl0BEEW",
        "colab_type": "code",
        "colab": {}
      },
      "source": [
        "import random\n",
        "from sklearn.datasets import make_spd_matrix\n",
        "def train_EM(X, C, rtol=1e-3, max_iter=100, restarts=10):\n",
        "    '''\n",
        "    Starts with random initialization *restarts* times\n",
        "    Runs optimization until saturation with *rtol* reached\n",
        "    or *max_iter* iterations were made.\n",
        "    \n",
        "    X: (N, d), data points\n",
        "    C: int, number of clusters\n",
        "    \n",
        "    Returns:\n",
        "    best_pi: (C)\n",
        "    best_mu: (C x d)\n",
        "    best_sigma: (C x d x d)\n",
        "    '''\n",
        "    N = X.shape[0] # number of objects\n",
        "    d = X.shape[1] # dimension of each object\n",
        "    best_loss = None\n",
        "    best_pi = None\n",
        "    best_mu = None\n",
        "    best_sigma = None\n",
        "    \n",
        "    # initialize random pi\n",
        "    pi = [random.random() for i in range(C)]\n",
        "    pi = pi / np.sum(pi)\n",
        "    \n",
        "    mu = np.random.rand(C,d)\n",
        "    sigma = np.zeros((C,d,d))\n",
        "    for c in range(C):\n",
        "      sigma[c,:,:] = np.identity(d)\n",
        "    \n",
        "    last_loss = None\n",
        "    curr_loss = 0\n",
        "    for _ in range(restarts):\n",
        "        try:\n",
        "            for i in range(max_iter):\n",
        "              gamma = E_step(X, pi, mu, sigma)\n",
        "              pi, mu, sigma = M_step(X, gamma)\n",
        "              curr_loss = compute_vlb(X, pi, mu, sigma, gamma)\n",
        "              print(\"Curr Loss: \", curr_loss)\n",
        "              print(\"Last Loss: \", last_loss)\n",
        "              if i > 0:\n",
        "                if np.abs((curr_loss - last_loss) / last_loss) <= rtol and i > 0:\n",
        "                  break;\n",
        "              last_loss = curr_loss\n",
        "        except np.linalg.LinAlgError:\n",
        "            print(\"Singular matrix: components collapsed\")\n",
        "            pass\n",
        "        \n",
        "        if best_loss is None:\n",
        "          best_loss = curr_loss\n",
        "          best_pi = pi\n",
        "          best_mu = mu\n",
        "          best_sigma = sigma\n",
        "        elif curr_loss > best_loss: \n",
        "          best_loss = curr_loss\n",
        "          best_pi = pi\n",
        "          best_mu = mu\n",
        "          best_sigma = sigma\n",
        "\n",
        "    return best_loss, best_pi, best_mu, best_sigma"
      ],
      "execution_count": 0,
      "outputs": []
    },
    {
      "cell_type": "code",
      "metadata": {
        "id": "yTb8spIuXDwN",
        "colab_type": "code",
        "outputId": "2540b4d1-b582-4ede-ef39-c2e1369c82cf",
        "colab": {
          "base_uri": "https://localhost:8080/",
          "height": 1224
        }
      },
      "source": [
        "train_EM(X,3)"
      ],
      "execution_count": 0,
      "outputs": [
        {
          "output_type": "stream",
          "text": [
            "Curr Loss:  -1179.316873567266\n",
            "Last Loss:  None\n",
            "Curr Loss:  -1155.5843673608424\n",
            "Last Loss:  -1179.316873567266\n",
            "Curr Loss:  -1142.3359127805322\n",
            "Last Loss:  -1155.5843673608424\n",
            "Curr Loss:  -1120.4638917860445\n",
            "Last Loss:  -1142.3359127805322\n",
            "Curr Loss:  -1092.7419562035116\n",
            "Last Loss:  -1120.4638917860445\n",
            "Curr Loss:  -1077.3338932147688\n",
            "Last Loss:  -1092.7419562035116\n",
            "Curr Loss:  -1071.0673825417598\n",
            "Last Loss:  -1077.3338932147688\n",
            "Curr Loss:  -1067.9998403023815\n",
            "Last Loss:  -1071.0673825417598\n",
            "Curr Loss:  -1066.3177424421083\n",
            "Last Loss:  -1067.9998403023815\n",
            "Curr Loss:  -1065.240486854943\n",
            "Last Loss:  -1066.3177424421083\n",
            "Curr Loss:  -1064.5318697896219\n",
            "Last Loss:  -1065.240486854943\n",
            "Curr Loss:  -1064.1214263380373\n",
            "Last Loss:  -1065.240486854943\n",
            "Curr Loss:  -1063.9274894073412\n",
            "Last Loss:  -1064.1214263380373\n",
            "Curr Loss:  -1063.8492282129791\n",
            "Last Loss:  -1064.1214263380373\n",
            "Curr Loss:  -1063.8188412855625\n",
            "Last Loss:  -1063.8492282129791\n",
            "Curr Loss:  -1063.8064756764102\n",
            "Last Loss:  -1063.8492282129791\n",
            "Curr Loss:  -1063.80111956636\n",
            "Last Loss:  -1063.8064756764102\n",
            "Curr Loss:  -1063.798692652373\n",
            "Last Loss:  -1063.8064756764102\n",
            "Curr Loss:  -1063.7975635175965\n",
            "Last Loss:  -1063.798692652373\n",
            "Curr Loss:  -1063.797030456865\n",
            "Last Loss:  -1063.798692652373\n",
            "Curr Loss:  -1063.7967767033988\n",
            "Last Loss:  -1063.797030456865\n",
            "Curr Loss:  -1063.7966552640275\n",
            "Last Loss:  -1063.797030456865\n",
            "Curr Loss:  -1063.7965969010697\n",
            "Last Loss:  -1063.7966552640275\n",
            "Curr Loss:  -1063.7965687335875\n",
            "Last Loss:  -1063.7966552640275\n",
            "Curr Loss:  -1063.7965550708327\n",
            "Last Loss:  -1063.7965687335875\n",
            "Curr Loss:  -1063.7965484003544\n",
            "Last Loss:  -1063.7965687335875\n",
            "Curr Loss:  -1063.7965451151347\n",
            "Last Loss:  -1063.7965484003544\n",
            "Curr Loss:  -1063.7965434781117\n",
            "Last Loss:  -1063.7965484003544\n",
            "Curr Loss:  -1063.7965426496733\n",
            "Last Loss:  -1063.7965434781117\n"
          ],
          "name": "stdout"
        },
        {
          "output_type": "execute_result",
          "data": {
            "text/plain": [
              "(-1063.7965426496733,\n",
              " array([0.10730981, 0.34186619, 0.550824  ]),\n",
              " array([[6.29622944, 4.43088148],\n",
              "        [0.92114759, 0.9665865 ],\n",
              "        [1.22309449, 5.83019242]]),\n",
              " array([[[ 1.70899432,  1.3917371 ],\n",
              "         [ 1.3917371 ,  1.3229429 ]],\n",
              " \n",
              "        [[ 1.49892379, -0.37295465],\n",
              "         [-0.37295465,  1.42887211]],\n",
              " \n",
              "        [[ 0.94352421,  0.06733999],\n",
              "         [ 0.06733999,  1.10642392]]]))"
            ]
          },
          "metadata": {
            "tags": []
          },
          "execution_count": 52
        }
      ]
    },
    {
      "cell_type": "code",
      "metadata": {
        "id": "l7jm9047XFIN",
        "colab_type": "code",
        "colab": {}
      },
      "source": [
        ""
      ],
      "execution_count": 0,
      "outputs": []
    },
    {
      "cell_type": "code",
      "metadata": {
        "id": "0f8A5sbmBEEZ",
        "colab_type": "code",
        "outputId": "e2c7f0a6-e5f1-4d2e-a0f2-e3c74d35c97a",
        "colab": {
          "base_uri": "https://localhost:8080/",
          "height": 1326
        }
      },
      "source": [
        "best_loss, best_pi, best_mu, best_sigma = train_EM(X, 3)\n",
        "grader.submit_EM(best_loss)"
      ],
      "execution_count": 0,
      "outputs": [
        {
          "output_type": "stream",
          "text": [
            "Curr Loss:  -1214.0599348239732\n",
            "Last Loss:  None\n",
            "Curr Loss:  -1174.5239259210084\n",
            "Last Loss:  -1214.0599348239732\n",
            "Curr Loss:  -1143.5605319638742\n",
            "Last Loss:  -1174.5239259210084\n",
            "Curr Loss:  -1126.3910092078986\n",
            "Last Loss:  -1143.5605319638742\n",
            "Curr Loss:  -1120.3797156592925\n",
            "Last Loss:  -1126.3910092078986\n",
            "Curr Loss:  -1116.1694099664296\n",
            "Last Loss:  -1120.3797156592925\n",
            "Curr Loss:  -1112.0218314844303\n",
            "Last Loss:  -1116.1694099664296\n",
            "Curr Loss:  -1107.5067164618092\n",
            "Last Loss:  -1112.0218314844303\n",
            "Curr Loss:  -1102.1271226744843\n",
            "Last Loss:  -1107.5067164618092\n",
            "Curr Loss:  -1095.2257063093061\n",
            "Last Loss:  -1102.1271226744843\n",
            "Curr Loss:  -1087.396426539472\n",
            "Last Loss:  -1095.2257063093061\n",
            "Curr Loss:  -1081.9472019975597\n",
            "Last Loss:  -1087.396426539472\n",
            "Curr Loss:  -1078.8452158431458\n",
            "Last Loss:  -1081.9472019975597\n",
            "Curr Loss:  -1076.3692814754916\n",
            "Last Loss:  -1078.8452158431458\n",
            "Curr Loss:  -1073.9393481350694\n",
            "Last Loss:  -1076.3692814754916\n",
            "Curr Loss:  -1071.4594975962914\n",
            "Last Loss:  -1073.9393481350694\n",
            "Curr Loss:  -1069.02893591018\n",
            "Last Loss:  -1071.4594975962914\n",
            "Curr Loss:  -1066.8868110566702\n",
            "Last Loss:  -1069.02893591018\n",
            "Curr Loss:  -1065.307413302522\n",
            "Last Loss:  -1066.8868110566702\n",
            "Curr Loss:  -1064.4117990993607\n",
            "Last Loss:  -1065.307413302522\n",
            "Curr Loss:  -1064.0291429241133\n",
            "Last Loss:  -1065.307413302522\n",
            "Curr Loss:  -1063.8889073878947\n",
            "Last Loss:  -1064.0291429241133\n",
            "Curr Loss:  -1063.8362749426585\n",
            "Last Loss:  -1064.0291429241133\n",
            "Curr Loss:  -1063.814603794855\n",
            "Last Loss:  -1063.8362749426585\n",
            "Curr Loss:  -1063.8049923404376\n",
            "Last Loss:  -1063.8362749426585\n",
            "Curr Loss:  -1063.8005470799678\n",
            "Last Loss:  -1063.8049923404376\n",
            "Curr Loss:  -1063.7984494169245\n",
            "Last Loss:  -1063.8049923404376\n",
            "Curr Loss:  -1063.7974511131963\n",
            "Last Loss:  -1063.7984494169245\n",
            "Curr Loss:  -1063.7969746628323\n",
            "Last Loss:  -1063.7984494169245\n",
            "Curr Loss:  -1063.7967472540347\n",
            "Last Loss:  -1063.7969746628323\n",
            "Curr Loss:  -1063.7966388660523\n",
            "Last Loss:  -1063.7969746628323\n",
            "Curr Loss:  -1063.7965873366288\n",
            "Last Loss:  -1063.7966388660523\n",
            "Curr Loss:  -1063.7965629304367\n",
            "Last Loss:  -1063.7966388660523\n",
            "Curr Loss:  -1063.7965514334635\n",
            "Last Loss:  -1063.7965629304367\n",
            "Curr Loss:  -1063.7965460606947\n",
            "Last Loss:  -1063.7965629304367\n",
            "Curr Loss:  -1063.7965435798608\n",
            "Last Loss:  -1063.7965460606947\n",
            "Curr Loss:  -1063.796542455471\n",
            "Last Loss:  -1063.7965460606947\n",
            "Curr Loss:  -1063.796541960967\n",
            "Last Loss:  -1063.796542455471\n",
            "Current answer for task Task 4 (EM) is: -1063.796541960967\n"
          ],
          "name": "stdout"
        }
      ]
    },
    {
      "cell_type": "markdown",
      "metadata": {
        "id": "tYd6tPHKBEEd",
        "colab_type": "text"
      },
      "source": [
        "If you implemented all the steps correctly, your algorithm should converge in about 20 iterations. Let's plot the clusters to see it. We will assign a cluster label as the most probable cluster index. This can be found using a matrix $\\gamma$ computed on last E-step. "
      ]
    },
    {
      "cell_type": "code",
      "metadata": {
        "id": "mK_M6QLnBEEe",
        "colab_type": "code",
        "outputId": "c6e78fd2-b213-4afd-cdf5-b1465947e26e",
        "colab": {
          "base_uri": "https://localhost:8080/",
          "height": 269
        }
      },
      "source": [
        "gamma = E_step(X, best_pi, best_mu, best_sigma)\n",
        "labels = gamma.argmax(axis=1)\n",
        "colors = np.array([(31, 119, 180), (255, 127, 14), (44, 160, 44)]) / 255.\n",
        "plt.scatter(X[:, 0], X[:, 1], c=colors[labels], s=30)\n",
        "plt.axis('equal')\n",
        "plt.show()"
      ],
      "execution_count": 0,
      "outputs": [
        {
          "output_type": "display_data",
          "data": {
            "image/png": "[encoded data removed]",
            "text/plain": [
              "<Figure size 432x288 with 1 Axes>"
            ]
          },
          "metadata": {
            "tags": []
          }
        }
      ]
    },
    {
      "cell_type": "markdown",
      "metadata": {
        "id": "h4lnjrc7BEEl",
        "colab_type": "text"
      },
      "source": [
        "# Authorization & Submission\n",
        "To submit assignment parts to Cousera platform, please, enter your e-mail and token into variables below. You can generate a token on this programming assignment's page. <b>Note:</b> The token expires 30 minutes after generation."
      ]
    },
    {
      "cell_type": "code",
      "metadata": {
        "id": "5uQRl29_BEEl",
        "colab_type": "code",
        "outputId": "8a10b484-1fe2-4a35-aedc-55b674fee09d",
        "colab": {
          "base_uri": "https://localhost:8080/",
          "height": 136
        }
      },
      "source": [
        "STUDENT_EMAIL = 'lmack22295@gmail.com'\n",
        "STUDENT_TOKEN = 'PGvLBTMgxEdWvH5h'\n",
        "grader.status()"
      ],
      "execution_count": 0,
      "outputs": [
        {
          "output_type": "stream",
          "text": [
            "You want to submit these numbers:\n",
            "Task Task 1 (E-step): 0.5337178741081263\n",
            "Task Task 2 (M-step: mu): 2.899391882050383\n",
            "Task Task 2 (M-step: sigma): 5.977105216897526\n",
            "Task Task 2 (M-step: pi): 0.5507624459218776\n",
            "Task Task 3 (VLB): -1213.9390729688698\n",
            "Task Task 4 (EM): -1063.796541960967\n"
          ],
          "name": "stdout"
        }
      ]
    },
    {
      "cell_type": "markdown",
      "metadata": {
        "id": "sNCsqNOiBEEn",
        "colab_type": "text"
      },
      "source": [
        "If you want to submit these answers, run cell below"
      ]
    },
    {
      "cell_type": "code",
      "metadata": {
        "id": "3sc9imWNBEEo",
        "colab_type": "code",
        "outputId": "79c094ab-ed33-4ab6-e28f-7cd579bccc9b",
        "colab": {
          "base_uri": "https://localhost:8080/",
          "height": 34
        }
      },
      "source": [
        "grader.submit(STUDENT_EMAIL, STUDENT_TOKEN)"
      ],
      "execution_count": 0,
      "outputs": [
        {
          "output_type": "stream",
          "text": [
            "Submitted to Coursera platform. See results on assignment page!\n"
          ],
          "name": "stdout"
        }
      ]
    },
    {
      "cell_type": "code",
      "metadata": {
        "id": "K43qlP_aUC37",
        "colab_type": "code",
        "outputId": "5a23d8c8-796b-4697-a50e-625a31f6cebc",
        "colab": {
          "base_uri": "https://localhost:8080/",
          "height": 164
        }
      },
      "source": [
        ""
      ],
      "execution_count": 0,
      "outputs": [
        {
          "output_type": "error",
          "ename": "NameError",
          "evalue": "ignored",
          "traceback": [
            "\u001b[0;31m---------------------------------------------------------------------------\u001b[0m",
            "\u001b[0;31mNameError\u001b[0m                                 Traceback (most recent call last)",
            "\u001b[0;32m<ipython-input-6-4a823501197f>\u001b[0m in \u001b[0;36m<module>\u001b[0;34m()\u001b[0m\n\u001b[0;32m----> 1\u001b[0;31m \u001b[0mmu\u001b[0m\u001b[0;34m\u001b[0m\u001b[0;34m\u001b[0m\u001b[0m\n\u001b[0m",
            "\u001b[0;31mNameError\u001b[0m: name 'mu' is not defined"
          ]
        }
      ]
    },
    {
      "cell_type": "code",
      "metadata": {
        "id": "g0k5YNikUDuD",
        "colab_type": "code",
        "colab": {}
      },
      "source": [
        ""
      ],
      "execution_count": 0,
      "outputs": []
    }
  ]
}